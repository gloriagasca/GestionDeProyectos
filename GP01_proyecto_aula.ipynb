## Proyecto de Aula 

### 1. Metodologías ágiles

La gestión de proyectos es un proceso relacionado con las actividades implicadas en garantizar que el software se entregará a tiempo y según el calendario previsto y de acuerdo con los requisitos de desarrollo y adquisición de software establecidos.

Algunos autores como Sommerville lo definen como un proceso indispensable para el desarrollo de software por su dependencia con las limitaciones de presupuesto y de calendario fijadas por un cliente.

Por su parte, la gestión de proyectos ágiles permite desarrollar soluciones de forma iterativa, colaborativa y flexible, adaptándose a cambios y necesidades reales del cliente. En un entorno tecnológico dinámico, dominar metodologías ágiles como Scrum es clave para entregar valor continuo y mejorar la eficiencia del equipo. Esta asignatura te brindará herramientas prácticas para planear, ejecutar y mejorar proyectos de software con enfoque ágil. Aprenderás haciendo, en un proyecto real, como lo hacen los equipos profesionales.

#### &nbsp; &nbsp; 1) Inception

La Inception es una etapa inicial clave que permite al equipo entender el propósito del proyecto, alinear expectativas con los interesados y definir los elementos esenciales antes de comenzar a desarrollar. A través de dinámicas colaborativas, se identifican objetivos, restricciones, riesgos y el alcance preliminar. Esta fase evita malentendidos y sienta bases sólidas para avanzar con claridad y foco. Esta etapa puede abordarse tanto para contextos ágiles como para contextos tradicionales. Para su proyecto de aula en esta asignatura esta será una evidencia transversal e independiente del contexto de la metodología de trabajo que estés utilizando.

[Plantilla Inception](Plantillas\Inception.docx)


#### &nbsp; &nbsp; 2) Ejecución del proyecto por ciclos

Un ciclo es conocido en el marco de trabajo Scrum como un Sprint. Es un ciclo corto de trabajo (usualmente de 1 a 4 semanas) en el que un equipo de desarrollo construye un incremento funcional del producto. Su objetivo es entregar una versión parcial pero usable de la solución, que pueda ser revisada y mejorada continuamente. Durante el

Sprint, se planifican tareas, se desarrollan funcionalidades y se evalúan avances a través de eventos como la revisión (review) y la retrospectiva.

El artefacto principal que se genera es el Incremento: una versión del producto que cumple con los criterios de calidad establecidos y aporta valor. Además, se actualizan el Product Backlog y el Sprint Backlog.

El Sprint es fundamental porque:

- Permite inspeccionar y adaptar de forma continua.

- Facilita la entrega temprana de valor.

- Promueve la colaboración entre el equipo y el Product Owner.

- Mejora la planificación gracias a la retroalimentación constante.

==Plantilla de informe técnico para presentación del Sprint (Sprint 1)==
