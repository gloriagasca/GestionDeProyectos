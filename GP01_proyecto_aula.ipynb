{
 "cells": [
  {
   "cell_type": "markdown",
   "id": "98a38dbf",
   "metadata": {},
   "source": [
    "<h1 align=\"center\">Gestión de Proyectos</h1>\n",
    "<h1 align=\"center\">Proyecto de Aula</h1>\n",
    "<h1 align=\"center\">2025</h1>\n",
    "<h1 align=\"center\">MEDELLÍN - COLOMBIA</h1>\n"
   ]
  },
  {
   "cell_type": "markdown",
   "id": "2c3e314e",
   "metadata": {},
   "source": [
    "## Proyecto de Aula"
   ]
  },
  {
   "cell_type": "markdown",
   "id": "db32adb2",
   "metadata": {},
   "source": [
    "### 1. Metodologías ágiles\n",
    "\n",
    "La gestión de proyectos es un proceso relacionado con las actividades implicadas en garantizar que el software se entregará a tiempo y según el calendario previsto y de acuerdo con los requisitos de desarrollo y adquisición de software establecidos.\n",
    "\n",
    "Algunos autores como Sommerville lo definen como un proceso indispensable para el desarrollo de software por su dependencia con las limitaciones de presupuesto y de calendario fijadas por un cliente.\n",
    "\n",
    "Por su parte, la gestión de proyectos ágiles permite desarrollar soluciones de forma iterativa, colaborativa y flexible, adaptándose a cambios y necesidades reales del cliente. En un entorno tecnológico dinámico, dominar metodologías ágiles como Scrum es clave para entregar valor continuo y mejorar la eficiencia del equipo. Esta asignatura te brindará herramientas prácticas para planear, ejecutar y mejorar proyectos de software con enfoque ágil. Aprenderás haciendo, en un proyecto real, como lo hacen los equipos profesionales.\n",
    "\n",
    "#### &nbsp; &nbsp; 1) Inception\n",
    "\n",
    "La Inception es una etapa inicial clave que permite al equipo entender el propósito del proyecto, alinear expectativas con los interesados y definir los elementos esenciales antes de comenzar a desarrollar. A través de dinámicas colaborativas, se identifican objetivos, restricciones, riesgos y el alcance preliminar. Esta fase evita malentendidos y sienta bases sólidas para avanzar con claridad y foco. Esta etapa puede abordarse tanto para contextos ágiles como para contextos tradicionales. Para su proyecto de aula en esta asignatura esta será una evidencia transversal e independiente del contexto de la metodología de trabajo que estés utilizando.\n",
    "\n",
    "[Descargar plantilla Inception](https://github.com/gloriagasca/GestionDeProyectos/raw/main/Plantillas/Inception.docx)\n",
    "\n",
    "\n",
    "#### &nbsp; &nbsp; 2) Ejecución del proyecto por ciclos\n",
    "\n",
    "Un ciclo es conocido en el marco de trabajo Scrum como un **Sprint**. Es un ciclo corto de trabajo (usualmente de 1 a 4 semanas) en el que un equipo de desarrollo construye un incremento funcional del producto. Su objetivo es entregar una versión parcial pero usable de la solución, que pueda ser revisada y mejorada continuamente. Durante el Sprint, se planifican tareas, se desarrollan funcionalidades y se evalúan avances a través de eventos como la revisión (review) y la retrospectiva.\n",
    "\n",
    "El artefacto principal que se genera es el Incremento: una versión del producto que cumple con los criterios de calidad establecidos y aporta valor. Además, se actualizan el Product Backlog y el Sprint Backlog.\n",
    "\n",
    "El Sprint es fundamental porque:\n",
    "\n",
    "- Permite inspeccionar y adaptar de forma continua.\n",
    "\n",
    "- Facilita la entrega temprana de valor.\n",
    "\n",
    "- Promueve la colaboración entre el equipo y el Product Owner.\n",
    "\n",
    "- Mejora la planificación gracias a la retroalimentación constante.\n",
    "\n",
    "[Descargar plantilla de informe técnico para presentación del Sprint](https://github.com/gloriagasca/GestionDeProyectos/raw/main/Plantillas/Plantilla_informe_tecnico_Sprint1.docx)\n",
    "\n",
    "#### &nbsp; &nbsp; 3) Estimación del producto backlog  \n",
    "\n",
    "La estimación del Product Backlog es una actividad clave en la planificación ágil que permite dimensionar el esfuerzo relativo de las historias de usuario. A través de técnicas colaborativas como Planning Poker, los equipos discuten, analizan y asignan puntos de historia (story points) a cada ítem del backlog, teniendo en cuenta su complejidad, riesgo y esfuerzo. Este proceso facilita la priorización, la planeación de los sprints y la toma de decisiones informadas, sin pretender una precisión absoluta, sino una base razonable para gestionar la entrega continua de valor. \n",
    "\n",
    "La estimación permite asignar esfuerzo relativo a las historias de usuario según su complejidad y alcance. Usando Planning Poker, el equipo discute y vota hasta alcanzar consenso. Esta estimación apoya la planificación de sprints y el seguimiento del proyecto sin buscar exactitud, sino una base compartida para tomar decisiones. \n",
    "\n",
    "[Descargar plantilla estimación PlanningPoker de excel](https://github.com/gloriagasca/GestionDeProyectos/raw/main/Plantillas/Plantilla_Poker_Estructurada_Con_Criterios.xlsx)\n",
    "\n",
    "#### &nbsp; &nbsp; 4) Sprint  \n",
    "\n",
    "Un Sprint es un ciclo corto de trabajo, típicamente de 1 a 4 semanas, en el que un equipo de desarrollo entrega un incremento funcional del producto. Cada Sprint tiene un objetivo claro, un backlog seleccionado, y culmina con una revisión y retrospectiva. Su propósito es avanzar de forma iterativa y adaptativa, generando valor continuo y permitiendo ajustar el rumbo del proyecto según los resultados. \n",
    "\n",
    "#### &nbsp; &nbsp; 5) Sprint Planning   \n",
    "\n",
    "El Sprint Planning es una reunión al inicio de cada Sprint en la que el equipo define qué se va a desarrollar (objetivo del Sprint) y cómo se va a hacer (selección de historias del backlog y planificación del trabajo). Participan el Product Owner, el Scrum Master y el equipo de desarrollo. Al finalizar, se debe validar y establecer un compromiso claro, firmado o documentado con el Product Owner, que evidencie el acuerdo sobre el alcance y la prioridad del Sprint. Este compromiso garantiza alineación y responsabilidad entre las partes. \n",
    "\n",
    "[Descargar plantilla formato Acta Planning](https://github.com/gloriagasca/GestionDeProyectos/raw/main/Plantillas/Formato_Acta_Planning.docx)"
   ]
  }
 ],
 "metadata": {
  "language_info": {
   "name": "python"
  }
 },
 "nbformat": 4,
 "nbformat_minor": 5
}
